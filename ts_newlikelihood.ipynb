{
 "cells": [
  {
   "cell_type": "code",
   "id": "99e85a3e003fc619",
   "metadata": {
    "collapsed": true
   },
   "source": [
    "# new likelihood found by iteratively reducing teh likelihood to remove B, using the identities B(a + 1, b) = B(a, b) * a / (a + b), B(a, b + 1) = B(a, b) * b / (a + b)\n",
    "\n",
    "import torch\n",
    "from torch.distributions import bernoulli, beta\n"
   ],
   "outputs": [],
   "execution_count": null
  },
  {
   "metadata": {},
   "cell_type": "code",
   "source": [
    "def new_log_marginal(a, b, x, n):\n",
    "    j = torch.linspace(1, (n - x), (n - x))\n",
    "    i = torch.linspace(1, x, x)\n",
    "    A = torch.sum(torch.log((b + n - x) - j) - torch.log((a + b + n) - j))\n",
    "    B = torch.sum(torch.log((a + x) - i) - torch.log((a + b + n) - i))\n",
    "    return A + B\n"
   ],
   "id": "30bca85e45d362de",
   "outputs": [],
   "execution_count": null
  },
  {
   "metadata": {},
   "cell_type": "code",
   "outputs": [],
   "execution_count": null,
   "source": [
    "# plot beta distribution given a and b\n",
    "\n",
    "def plot_beta(a, b):\n",
    "    beta_dist = beta.Beta(a, b)\n",
    "    x = torch.linspace(0, 1, 100)\n",
    "    y = beta_dist.log_prob(x)\n",
    "    plt.plot(x, torch.exp(y))\n",
    "    plt.show()"
   ],
   "id": "bf4465a7289e4599"
  },
  {
   "metadata": {},
   "cell_type": "code",
   "outputs": [],
   "execution_count": null,
   "source": [
    "plot_beta(3.1, 2.9)"
   ],
   "id": "7758e21242adf204"
  },
  {
   "metadata": {},
   "cell_type": "code",
   "source": [
    "def old_log_marginal(a, b, x, n):\n",
    "    A = (a + b - 1/2) * torch.log(a + b) + (x + a - 1/2) * torch.log(x + a) + (n - x + b - 1/2) * torch.log(n - x + b)\n",
    "    \n",
    "    B = (a - 1/2) * torch.log(a) + (b - 1/2) * torch.log(b) + (a + n + b - 1/2) * torch.log(a + n + b)\n",
    "    \n",
    "    return A - B"
   ],
   "id": "dd6b541a97bb1770",
   "outputs": [],
   "execution_count": null
  },
  {
   "metadata": {},
   "cell_type": "code",
   "source": [
    "a = torch.tensor([100.0])\n",
    "b = torch.tensor([200.0])\n",
    "\n",
    "beta_dist = beta.Beta(a, b)\n",
    "n = 100000\n",
    "\n",
    "\n",
    "rho = beta_dist.sample([n])\n",
    "bernoulli_dist = bernoulli.Bernoulli(rho)\n",
    "X = bernoulli_dist.sample()\n",
    "\n",
    "w_a = torch.tensor([1.0], requires_grad=True)\n",
    "w_b = torch.tensor([4.0], requires_grad=True)\n",
    "\n",
    "optimizer = torch.optim.SGD([w_a, w_b], lr=0.01)\n",
    "\n",
    "for i in range(100000):\n",
    "\n",
    "    \n",
    "    # mini batch X:\n",
    "    for j in range(n // 100):\n",
    "        optimizer.zero_grad()\n",
    "        s = torch.sum(X[j * 100:(j + 1) * 100])\n",
    "        loss = -new_log_marginal(w_a, w_b, int(s.item()), 100) \n",
    "        loss.backward()\n",
    "        optimizer.step()\n",
    "\n",
    "    # print(f'sum: {torch.sum(X)}')\n",
    "    print(w_a.item(), w_b.item())\n"
   ],
   "id": "initial_id",
   "outputs": [],
   "execution_count": null
  },
  {
   "metadata": {},
   "cell_type": "code",
   "source": [
    "from tqdm import tqdm\n",
    "# plot values for log_marginal over different values of a and b, using x = 50, n = 100\n",
    "import matplotlib.pyplot as plt\n",
    "\n",
    "a_vals = torch.linspace(0, 2000, 100)\n",
    "b_vals = torch.linspace(0, 2000, 100)\n",
    "\n",
    "log_marginal_vals = torch.zeros((100, 100))\n",
    "\n",
    "for i, a_val in tqdm(enumerate(a_vals)):\n",
    "    for j, b_val in enumerate(b_vals):\n",
    "        log_marginal_vals[i, j] = new_log_marginal(a_val, b_val, 90, 100) / 100\n",
    "        \n",
    "plt.imshow(log_marginal_vals, extent=[0, 10, 0, 10], origin='lower', aspect='auto')\n",
    "plt.colorbar()\n",
    "\n",
    "# label axes \n",
    "plt.xlabel('b')\n",
    "plt.ylabel('a')\n",
    "\n",
    "plt.show()\n"
   ],
   "id": "a12b113840bb073b",
   "outputs": [],
   "execution_count": null
  },
  {
   "metadata": {},
   "cell_type": "code",
   "source": [
    "# plot values for new_log_marginal over different values of n with a = 10, b = 10, x = 5\n",
    "\n",
    "n_vals = torch.linspace(10, 1000, 10)\n",
    "\n",
    "log_marginal_vals = torch.zeros((10, ))\n",
    "\n",
    "for i, n_val in tqdm(enumerate(n_vals)):\n",
    "    log_marginal_vals[i] = new_log_marginal(10, 10, 1, int(n_val.item()))\n",
    "    \n",
    "plt.plot(log_marginal_vals)\n",
    "# label axes\n",
    "plt.xlabel('n')\n",
    "plt.ylabel('loss')\n",
    "    \n",
    "plt.show()"
   ],
   "id": "34bb21b715dde0ad",
   "outputs": [],
   "execution_count": null
  },
  {
   "metadata": {},
   "cell_type": "code",
   "source": [
    "# 3d plot values of new log marginal over different values of a, b and x with n=100\n",
    "\n",
    "from mpl_toolkits.mplot3d import Axes3D\n",
    "import numpy as np\n",
    "\n",
    "fig = plt.figure()\n",
    "ax = fig.add_subplot(111, projection='3d')\n",
    "\n",
    "a_vals = torch.linspace(0, 100, 10)\n",
    "b_vals = torch.linspace(0, 100, 10)\n",
    "\n",
    "x_vals = torch.linspace(0, 100, 10)\n",
    "\n",
    "log_marginal_vals = torch.zeros((10, 10, 10))\n",
    "\n",
    "for i, a_val in tqdm(enumerate(a_vals)):\n",
    "    for j, b_val in enumerate(b_vals):\n",
    "        for k, x_val in enumerate(x_vals):\n",
    "            log_marginal_vals[i, j, k] = new_log_marginal(a_val, b_val, int(x_val), 100)\n",
    "            \n",
    "            \n",
    "            \n",
    "# plot with x, a, b on axes with colouration for log marginal\n",
    "\n",
    "X, Y, Z = np.meshgrid(a_vals.numpy(), b_vals.numpy(), x_vals.numpy())\n",
    "ax.scatter(X, Y, Z, c=log_marginal_vals.numpy())\n",
    "\n",
    "# add labels\n",
    "ax.set_xlabel('a')\n",
    "ax.set_ylabel('b')\n",
    "ax.set_zlabel('x')\n",
    "\n",
    "# add colour bar\n",
    "cbar = plt.colorbar(ax.scatter(X, Y, Z, c=log_marginal_vals.numpy()))\n",
    "\n",
    "            \n",
    "plt.show()\n",
    "\n",
    "\n"
   ],
   "id": "106385b76e816dc6",
   "outputs": [],
   "execution_count": null
  },
  {
   "metadata": {},
   "cell_type": "code",
   "source": [
    "from tqdm import tqdm\n",
    "# plot values for log_marginal over different values of a, with b fixed at 1, using x = 50, n = 100\n",
    "import matplotlib.pyplot as plt\n",
    "\n",
    "a_vals = torch.linspace(0, 10, 100)\n",
    "\n",
    "log_marginal_vals = torch.zeros((100, ))\n",
    "\n",
    "for i, a_val in tqdm(enumerate(a_vals)):\n",
    "    log_marginal_vals[i] = new_log_marginal(a_val, 1, 1, 2)\n",
    "\n",
    "plt.plot(log_marginal_vals)\n",
    "# label axes \n",
    "plt.xlabel('a')\n",
    "plt.ylabel('loss')\n",
    "\n",
    "plt.show()\n",
    "\n"
   ],
   "id": "c9f6e93b340bf69e",
   "outputs": [],
   "execution_count": null
  },
  {
   "metadata": {},
   "cell_type": "code",
   "source": [
    "\n",
    "_log_marginal_vals = torch.zeros((1000, 1000))\n",
    "\n",
    "for i, a_val in tqdm(enumerate(a_vals)):\n",
    "    for j, b_val in enumerate(b_vals):\n",
    "        _log_marginal_vals[i, j] = old_log_marginal(a_val, b_val, 150, 200) \n",
    "\n",
    "plt.imshow(_log_marginal_vals, extent=[0, 10, 0, 10], origin='lower', aspect='auto')\n",
    "plt.colorbar()\n",
    "plt.show()\n"
   ],
   "id": "c7c75e1752062170",
   "outputs": [],
   "execution_count": null
  },
  {
   "metadata": {},
   "cell_type": "code",
   "source": [
    "def torch_binom(n, k):\n",
    "    mask = n.detach() >= k.detach()\n",
    "    n = mask * n\n",
    "    k = mask * k\n",
    "    a = torch.lgamma(n + 1) - torch.lgamma((n - k) + 1) - torch.lgamma(k + 1)\n",
    "    return torch.exp(a) * mask"
   ],
   "id": "a41f80911e640c48",
   "outputs": [],
   "execution_count": null
  }
 ],
 "metadata": {
  "kernelspec": {
   "display_name": "Python 3",
   "language": "python",
   "name": "python3"
  },
  "language_info": {
   "codemirror_mode": {
    "name": "ipython",
    "version": 2
   },
   "file_extension": ".py",
   "mimetype": "text/x-python",
   "name": "python",
   "nbconvert_exporter": "python",
   "pygments_lexer": "ipython2",
   "version": "2.7.6"
  }
 },
 "nbformat": 4,
 "nbformat_minor": 5
}
