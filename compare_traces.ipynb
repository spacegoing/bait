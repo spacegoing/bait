{
 "cells": [
  {
   "cell_type": "code",
   "execution_count": null,
   "outputs": [],
   "source": [
    "from tqdm import tqdm\n",
    "import pickle\n",
    "import glob\n",
    "\n",
    "bestfs_path = 'runs/end_to_end/original/2024_02_15/00_47_29/traces/0/'\n",
    "bfs_path = 'runs/end_to_end/bfs/2024_04_05/18_45_30/traces/0/'\n",
    "\n",
    "def load_traces(path):\n",
    "    files = glob.glob(path + '*', recursive=True)\n",
    "    traces = []\n",
    "\n",
    "    for file in tqdm(files):\n",
    "        traces.append(pickle.load(open(file, \"rb\")))\n",
    "\n",
    "    return traces"
   ],
   "metadata": {
    "collapsed": false
   }
  },
  {
   "cell_type": "code",
   "execution_count": null,
   "outputs": [],
   "source": [
    "bfs_traces = load_traces(bfs_path)\n",
    "bestfs_traces = load_traces(bestfs_path)"
   ],
   "metadata": {
    "collapsed": false
   }
  },
  {
   "cell_type": "code",
   "execution_count": null,
   "outputs": [],
   "source": [
    "from experiments.end_to_end.proof_node import ErrorNode, Status\n",
    "import math\n",
    "\n",
    "data = []\n",
    "visits = {}\n",
    "\n",
    "\n",
    "def add_trace(trace):\n",
    "    nodes = trace.nodes\n",
    "    if isinstance(trace.tree, ErrorNode):\n",
    "        return\n",
    "    nodes[trace.tree.goal] = trace.tree\n",
    "\n",
    "    visits = {node: nodes[node].visit_count for node in nodes.keys()}\n",
    "\n",
    "    for goal, node in nodes.items():\n",
    "        for a in node.ancestors:\n",
    "            visits[a] += node.visit_count\n",
    "\n",
    "    for node in trace.nodes.values():\n",
    "        if not isinstance(node, ErrorNode):\n",
    "            data.append((node, visits[node.goal]))\n"
   ],
   "metadata": {
    "collapsed": false
   }
  },
  {
   "cell_type": "code",
   "execution_count": null,
   "outputs": [],
   "source": [
    "[add_trace(t) for t in bestfs_traces]\n",
    "len(data)"
   ],
   "metadata": {
    "collapsed": false
   }
  },
  {
   "cell_type": "code",
   "execution_count": null,
   "outputs": [],
   "source": [
    "# takeaway:\n",
    "# most nodes have visit counts under (89%)\n",
    "# 11% of nodes have visit counts over 64\n",
    "# 3.6% of nodes are failed, 1.1% proven"
   ],
   "metadata": {
    "collapsed": false
   }
  },
  {
   "cell_type": "code",
   "execution_count": null,
   "outputs": [],
   "source": [
    "# plot distribution of node visit counts, up to 4096 visits\n",
    "\n",
    "import matplotlib.pyplot as plt\n",
    "\n",
    "plt.hist([d[1] for d in data], bins=range(0, 512, 64))\n"
   ],
   "metadata": {
    "collapsed": false
   }
  },
  {
   "cell_type": "code",
   "execution_count": null,
   "outputs": [],
   "source": [
    "num_proven = len([d[0] for d in data if d[0].status == Status.PROVED]) / len(data)\n",
    "num_proven"
   ],
   "metadata": {
    "collapsed": false
   }
  },
  {
   "cell_type": "code",
   "execution_count": null,
   "outputs": [],
   "source": [
    "num_failed = len([d[0] for d in data if d[0].status == Status.FAILED]) / len(data)\n",
    "num_failed"
   ],
   "metadata": {
    "collapsed": false
   }
  },
  {
   "cell_type": "code",
   "execution_count": null,
   "outputs": [],
   "source": [
    "num_open = len([d[0] for d in data if d[0].status == Status.OPEN]) / len(data)\n",
    "num_open"
   ],
   "metadata": {
    "collapsed": false
   }
  },
  {
   "cell_type": "code",
   "execution_count": null,
   "outputs": [],
   "source": [
    "# number with visit count over 64\n",
    "num_over_64 = len([d[0] for d in data if d[1] >= 64]) / len(data)\n",
    "num_over_64"
   ],
   "metadata": {
    "collapsed": false
   }
  },
  {
   "cell_type": "code",
   "execution_count": null,
   "outputs": [],
   "source": [
    "# number with visit count over 128\n",
    "num_over_128 = len([d[0] for d in data if d[1] >= 128]) / len(data)\n",
    "num_over_128"
   ],
   "metadata": {
    "collapsed": false
   }
  },
  {
   "cell_type": "code",
   "execution_count": null,
   "outputs": [],
   "source": [
    "# number with visit count over 256\n",
    "num_over_256 = len([d[0] for d in data if d[1] >= 256]) / len(data)\n",
    "num_over_256"
   ],
   "metadata": {
    "collapsed": false
   }
  },
  {
   "cell_type": "code",
   "execution_count": null,
   "outputs": [],
   "source": [
    "bfs_proved = [a.theorem.full_name for a in bfs_traces if a.proof]\n",
    "best_fs_proved = [a.theorem.full_name for a in bestfs_traces if a.proof]"
   ],
   "metadata": {
    "collapsed": false
   }
  },
  {
   "cell_type": "code",
   "execution_count": null,
   "outputs": [],
   "source": [
    "len(bfs_proved), len(best_fs_proved)"
   ],
   "metadata": {
    "collapsed": false
   }
  },
  {
   "cell_type": "code",
   "execution_count": null,
   "outputs": [],
   "source": [
    "# get the intersection of proved theorems, and number unique to each set\n",
    "\n",
    "bfs_proved_set = set(bfs_proved)\n",
    "best_fs_proved_set = set(best_fs_proved)\n",
    "\n",
    "intersection = bfs_proved_set.intersection(best_fs_proved_set)\n",
    "\n",
    "bfs_unique = bfs_proved_set.difference(best_fs_proved_set)\n",
    "\n",
    "best_fs_unique = best_fs_proved_set.difference(bfs_proved_set)\n",
    "\n",
    "len(intersection), len(bfs_unique), len(best_fs_unique)"
   ],
   "metadata": {
    "collapsed": false
   }
  },
  {
   "cell_type": "code",
   "execution_count": null,
   "outputs": [],
   "source": [],
   "metadata": {
    "collapsed": false
   }
  },
  {
   "cell_type": "code",
   "execution_count": null,
   "outputs": [],
   "source": [
    "# train data path\n",
    "train_path = 'runs/train_traces/0/'"
   ],
   "metadata": {
    "collapsed": false
   }
  },
  {
   "cell_type": "code",
   "execution_count": null,
   "outputs": [],
   "source": [
    "train_files = glob.glob(train_path + '*', recursive=True)"
   ],
   "metadata": {
    "collapsed": false
   }
  },
  {
   "cell_type": "code",
   "execution_count": null,
   "outputs": [],
   "source": [
    "from experiments.end_to_end.proof_node import Status"
   ],
   "metadata": {
    "collapsed": false
   }
  },
  {
   "cell_type": "code",
   "execution_count": null,
   "outputs": [],
   "source": [
    "# takeaway: fails distributed zipfian, with a few proofs having most fails\n",
    "# fails with no out_edges are usually root nodes which have errored out\n",
    "# fails with out_edges are usually nodes which haven't been fully visited, implying an error in one of the expansions"
   ],
   "metadata": {
    "collapsed": false
   }
  },
  {
   "cell_type": "code",
   "execution_count": null,
   "outputs": [],
   "source": [
    "weird_fails = []\n",
    "fail_dist = []\n",
    "true_fails = 0\n",
    "no_edges = []\n",
    "for file in tqdm(train_files):\n",
    "    trace = pickle.load(open(file, 'rb'))\n",
    "\n",
    "    fail_nodes = [node for node in trace.nodes.values() if node.status == Status.FAILED]\n",
    "    for node in fail_nodes:\n",
    "        if node.out_edges:\n",
    "            if all([any([c.status == Status.FAILED for c in child.dst]) for child in\n",
    "                    node.out_edges]) and node.visit_count >= node.max_expansions:\n",
    "                true_fails += 1\n",
    "            else:\n",
    "                weird_fails.append(node)\n",
    "        else:\n",
    "            no_edges.append(node)\n",
    "\n",
    "    fail_dist.append(len(fail_nodes))\n"
   ],
   "metadata": {
    "collapsed": false
   }
  },
  {
   "cell_type": "code",
   "execution_count": null,
   "outputs": [],
   "source": [
    "len(weird_fails), true_fails, len(no_edges)"
   ],
   "metadata": {
    "collapsed": false
   }
  },
  {
   "cell_type": "code",
   "execution_count": null,
   "outputs": [],
   "source": [
    "[a.visit_count for a in weird_fails]"
   ],
   "metadata": {
    "collapsed": false
   }
  },
  {
   "cell_type": "code",
   "execution_count": null,
   "outputs": [],
   "source": [
    "[(type(d.dst[0]), len(d.dst)) for d in weird_fails[0].out_edges]\n"
   ],
   "metadata": {
    "collapsed": false
   }
  },
  {
   "cell_type": "code",
   "execution_count": null,
   "outputs": [],
   "source": [
    "weird_fails[0].in_edges"
   ],
   "metadata": {
    "collapsed": false
   }
  },
  {
   "cell_type": "code",
   "execution_count": null,
   "outputs": [],
   "source": [
    "weird_fails[0]"
   ],
   "metadata": {
    "collapsed": false
   }
  },
  {
   "cell_type": "code",
   "execution_count": null,
   "outputs": [],
   "source": [
    "# plot histogram of fail_dist, excluding those with 0 value\n",
    "\n",
    "import matplotlib.pyplot as plt\n",
    "\n",
    "plt.hist(fail_dist, bins=range(1, max(fail_dist) + 1))\n",
    "plt.show()\n"
   ],
   "metadata": {
    "collapsed": false
   }
  },
  {
   "cell_type": "code",
   "execution_count": null,
   "outputs": [],
   "source": [
    "[type(d.dst[0]) for d in [node for node in trace.nodes.values() if node.status == Status.FAILED][1].out_edges]\n",
    "# [d.dst[0] for d in [node for node in trace.nodes.values() if node.status == Status.FAILED][0].out_edges]\n"
   ],
   "metadata": {
    "collapsed": false
   }
  }
 ],
 "metadata": {
  "kernelspec": {
   "display_name": "Python 3",
   "language": "python",
   "name": "python3"
  },
  "language_info": {
   "codemirror_mode": {
    "name": "ipython",
    "version": 2
   },
   "file_extension": ".py",
   "mimetype": "text/x-python",
   "name": "python",
   "nbconvert_exporter": "python",
   "pygments_lexer": "ipython2",
   "version": "2.7.6"
  }
 },
 "nbformat": 4,
 "nbformat_minor": 0
}
