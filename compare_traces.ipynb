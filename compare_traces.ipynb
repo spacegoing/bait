{
 "cells": [
  {
   "cell_type": "code",
   "execution_count": null,
   "metadata": {
    "collapsed": true
   },
   "outputs": [],
   "source": [
    "bestfs_path = 'runs/end_to_end/original/2024_02_15/00_47_29/traces/0/'\n",
    "bfs_path = 'runs/end_to_end/bfs/2024_04_05/18_45_30/traces/0/'"
   ]
  },
  {
   "cell_type": "code",
   "execution_count": null,
   "outputs": [],
   "source": [
    "from tqdm import tqdm\n",
    "import pickle\n",
    "import glob\n",
    "\n",
    "\n",
    "def load_traces(path):\n",
    "    files = glob.glob(path + '*', recursive=True)\n",
    "    traces = []\n",
    "    for file in tqdm(files):\n",
    "        traces.append(pickle.load(open(file, \"rb\")))\n",
    "    return traces\n",
    "\n"
   ],
   "metadata": {
    "collapsed": false
   }
  },
  {
   "cell_type": "code",
   "execution_count": null,
   "outputs": [],
   "source": [
    "bfs_traces = load_traces(bfs_path)\n",
    "bestfs_traces = load_traces(bestfs_path)\n",
    "\n"
   ],
   "metadata": {
    "collapsed": false
   }
  },
  {
   "cell_type": "code",
   "execution_count": null,
   "outputs": [],
   "source": [
    "bfs_proved = [a.theorem.full_name for a in bfs_traces if a.proof]\n",
    "best_fs_proved = [a.theorem.full_name for a in bestfs_traces if a.proof]"
   ],
   "metadata": {
    "collapsed": false
   }
  },
  {
   "cell_type": "code",
   "execution_count": null,
   "outputs": [],
   "source": [
    "len(bfs_proved), len(best_fs_proved)"
   ],
   "metadata": {
    "collapsed": false
   }
  },
  {
   "cell_type": "code",
   "execution_count": null,
   "outputs": [],
   "source": [
    "# get the intersection of proved theorems, and number unique to each set\n",
    "\n",
    "bfs_proved_set = set(bfs_proved)\n",
    "best_fs_proved_set = set(best_fs_proved)\n",
    "\n",
    "intersection = bfs_proved_set.intersection(best_fs_proved_set)\n",
    "\n",
    "bfs_unique = bfs_proved_set.difference(best_fs_proved_set)\n",
    "\n",
    "best_fs_unique = best_fs_proved_set.difference(bfs_proved_set)\n",
    "\n",
    "len(intersection), len(bfs_unique), len(best_fs_unique)"
   ],
   "metadata": {
    "collapsed": false
   }
  }
 ],
 "metadata": {
  "kernelspec": {
   "display_name": "Python 3",
   "language": "python",
   "name": "python3"
  },
  "language_info": {
   "codemirror_mode": {
    "name": "ipython",
    "version": 2
   },
   "file_extension": ".py",
   "mimetype": "text/x-python",
   "name": "python",
   "nbconvert_exporter": "python",
   "pygments_lexer": "ipython2",
   "version": "2.7.6"
  }
 },
 "nbformat": 4,
 "nbformat_minor": 0
}
