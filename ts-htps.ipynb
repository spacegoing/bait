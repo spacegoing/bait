{
 "cells": [
  {
   "cell_type": "code",
   "id": "initial_id",
   "metadata": {
    "collapsed": true
   },
   "source": [
    "import torch\n",
    "from torch.distributions import bernoulli, beta"
   ],
   "outputs": [],
   "execution_count": null
  },
  {
   "metadata": {},
   "cell_type": "code",
   "source": [
    "a = torch.tensor([1.0])\n",
    "b = torch.tensor([2.0])\n",
    "\n",
    "beta_dist = beta.Beta(a, b)"
   ],
   "id": "e0f7614db223923f",
   "execution_count": null,
   "outputs": []
  },
  {
   "metadata": {},
   "cell_type": "code",
   "source": [
    "n = 100000\n",
    "\n",
    "rho = beta_dist.sample([n])\n",
    "bernoulli_dist = bernoulli.Bernoulli(rho)\n",
    "X = bernoulli_dist.sample()"
   ],
   "id": "dece5dc2ab2c8f31",
   "outputs": [],
   "execution_count": null
  },
  {
   "metadata": {},
   "cell_type": "code",
   "source": [
    "def log_marginal(a, b, x, n):\n",
    "    A = (a + b - 1 / 2) * torch.log(a + b) + (x + a - 1 / 2) * torch.log(x + a) + (n - x + b - 1 / 2) * torch.log(\n",
    "        n - x + b)\n",
    "\n",
    "    B = (a - 1 / 2) * torch.log(a) + (b - 1 / 2) * torch.log(b) + (a + n + b - 1 / 2) * torch.log(a + n + b)\n",
    "\n",
    "    return A - B"
   ],
   "id": "c152126d8a0d0163",
   "outputs": [],
   "execution_count": null
  },
  {
   "metadata": {},
   "cell_type": "code",
   "source": [
    "# plot values for log_marginal over different values of a and b, using x = 50, n = 100\n",
    "import matplotlib.pyplot as plt\n",
    "\n",
    "a_vals = torch.linspace(10, 10000, 100)\n",
    "b_vals = torch.linspace(10, 10000, 100)\n",
    "\n",
    "log_marginal_vals = torch.zeros((100, 100))\n",
    "\n",
    "for i, a_val in enumerate(a_vals):\n",
    "    for j, b_val in enumerate(b_vals):\n",
    "        log_marginal_vals[i, j] = log_marginal(a_val, b_val, 150, 200)\n",
    "\n",
    "plt.imshow(log_marginal_vals, extent=[10, 10000, 10, 10000], origin='lower', aspect='auto')\n",
    "plt.colorbar()\n",
    "\n",
    "# label axes \n",
    "plt.xlabel('a')\n",
    "plt.ylabel('b')\n",
    "\n",
    "plt.show()\n",
    "\n"
   ],
   "id": "eb490843f63ee3c",
   "outputs": [],
   "execution_count": null
  },
  {
   "metadata": {},
   "cell_type": "code",
   "source": [
    "from torch import digamma\n",
    "\n",
    "\n",
    "def digamma_grad(a, b, n, x):\n",
    "    return digamma(a + b) + digamma(a + x) + digamma(b + n - x) - digamma(a) - digamma(b) - digamma(a + b + n)"
   ],
   "id": "40207d1733abfe57",
   "outputs": [],
   "execution_count": null
  },
  {
   "metadata": {},
   "cell_type": "code",
   "source": [
    "\n",
    "# plot values for log_marginal over different values of x and N, fixing a and b to be 10\n",
    "import matplotlib.pyplot as plt\n",
    "\n",
    "x_vals = torch.linspace(1, 10000, 100)\n",
    "n_vals = torch.linspace(1, 100000, 100)\n",
    "\n",
    "log_marginal_vals = torch.zeros((100, 100))\n",
    "\n",
    "for i, x_val in enumerate(x_vals):\n",
    "    for j, n_val in enumerate(n_vals):\n",
    "        log_marginal_vals[i, j] = log_marginal(torch.Tensor([100000.0]), torch.tensor([100000.0]), x_val, n_val)\n",
    "\n",
    "plt.imshow(log_marginal_vals, extent=[0.1, 100, 0.1, 1000], origin='lower', aspect='auto')\n",
    "plt.colorbar()\n",
    "\n",
    "# labels    \n",
    "plt.xlabel('x')\n",
    "plt.ylabel('N')\n",
    "plt.show()\n"
   ],
   "id": "6f2d164422c3b466",
   "outputs": [],
   "execution_count": null
  },
  {
   "cell_type": "code",
   "execution_count": null,
   "outputs": [],
   "source": [
    "def get_grad(a, b, x, n):\n",
    "    grad_a = torch.log(a) - (1 / 2) * a + 1 + ((a + b + n - 1 / 2) / (a + b + n)) + torch.log(a + b + n) - (\n",
    "                (a + b - 1 / 2) / (a + b)) - torch.log(a + b) - ((x + a - 1 / 2) / (x + a)) - torch.log(x + a)\n",
    "\n",
    "    grad_b = torch.log(b) - (1 / 2) * b + 1 + ((a + b + n - 1 / 2) / (a + b + n)) + torch.log(a + b + n) - (\n",
    "                (a + b - 1 / 2) / (a + b)) - torch.log(a + b) - ((n - x + b - 1 / 2) / (n - x + b)) - torch.log(\n",
    "        n - x + b)\n",
    "\n",
    "    return grad_a, grad_b#%%\n",
    "import torch\n",
    "from torch.distributions import bernoulli, beta"
   ],
   "metadata": {
    "collapsed": false
   }
  },
  {
   "cell_type": "code",
   "execution_count": null,
   "outputs": [],
   "source": [
    "a = torch.tensor([1.0])\n",
    "b = torch.tensor([2.0])\n",
    "\n",
    "beta_dist = beta.Beta(a, b)"
   ],
   "metadata": {
    "collapsed": false
   }
  },
  {
   "cell_type": "code",
   "execution_count": null,
   "outputs": [],
   "source": [
    "n = 100000\n",
    "\n",
    "rho = beta_dist.sample([n])\n",
    "bernoulli_dist = bernoulli.Bernoulli(rho)\n",
    "X = bernoulli_dist.sample()"
   ],
   "metadata": {
    "collapsed": false
   }
  },
  {
   "cell_type": "code",
   "execution_count": null,
   "outputs": [],
   "source": [
    "def log_marginal(a, b, x, n):\n",
    "    A = (a + b - 1 / 2) * torch.log(a + b) + (x + a - 1 / 2) * torch.log(x + a) + (n - x + b - 1 / 2) * torch.log(\n",
    "        n - x + b)\n",
    "\n",
    "    B = (a - 1 / 2) * torch.log(a) + (b - 1 / 2) * torch.log(b) + (a + n + b - 1 / 2) * torch.log(a + n + b)\n",
    "\n",
    "    return A - B"
   ],
   "metadata": {
    "collapsed": false
   }
  },
  {
   "cell_type": "code",
   "execution_count": null,
   "outputs": [],
   "source": [
    "# plot values for log_marginal over different values of a and b, using x = 50, n = 100\n",
    "import matplotlib.pyplot as plt\n",
    "\n",
    "a_vals = torch.linspace(10, 10000, 100)\n",
    "b_vals = torch.linspace(10, 10000, 100)\n",
    "\n",
    "log_marginal_vals = torch.zeros((100, 100))\n",
    "\n",
    "for i, a_val in enumerate(a_vals):\n",
    "    for j, b_val in enumerate(b_vals):\n",
    "        log_marginal_vals[i, j] = log_marginal(a_val, b_val, 150, 200)\n",
    "\n",
    "plt.imshow(log_marginal_vals, extent=[10, 10000, 10, 10000], origin='lower', aspect='auto')\n",
    "plt.colorbar()\n",
    "\n",
    "# label axes\n",
    "plt.xlabel('a')\n",
    "plt.ylabel('b')\n",
    "\n",
    "plt.show()\n",
    "\n"
   ],
   "metadata": {
    "collapsed": false
   }
  },
  {
   "cell_type": "code",
   "execution_count": null,
   "outputs": [],
   "source": [
    "from torch import digamma\n",
    "\n",
    "\n",
    "def digamma_grad(a, b, n, x):\n",
    "    return digamma(a + b) + digamma(a + x) + digamma(b + n - x) - digamma(a) - digamma(b) - digamma(a + b + n)"
   ],
   "metadata": {
    "collapsed": false
   }
  },
  {
   "cell_type": "code",
   "execution_count": null,
   "outputs": [],
   "source": [
    "\n",
    "# plot values for log_marginal over different values of x and N, fixing a and b to be 10\n",
    "import matplotlib.pyplot as plt\n",
    "\n",
    "x_vals = torch.linspace(1, 10000, 100)\n",
    "n_vals = torch.linspace(1, 100000, 100)\n",
    "\n",
    "log_marginal_vals = torch.zeros((100, 100))\n",
    "\n",
    "for i, x_val in enumerate(x_vals):\n",
    "    for j, n_val in enumerate(n_vals):\n",
    "        log_marginal_vals[i, j] = log_marginal(torch.Tensor([100000.0]), torch.tensor([100000.0]), x_val, n_val)\n",
    "\n",
    "plt.imshow(log_marginal_vals, extent=[0.1, 100, 0.1, 1000], origin='lower', aspect='auto')\n",
    "plt.colorbar()\n",
    "\n",
    "# labels\n",
    "plt.xlabel('x')\n",
    "plt.ylabel('N')\n",
    "plt.show()\n"
   ],
   "metadata": {
    "collapsed": false
   }
  },
  {
   "cell_type": "code",
   "execution_count": null,
   "outputs": [],
   "source": [
    "def get_grad(a, b, x, n):\n",
    "    grad_a = torch.log(a) - (1 / 2) * a + 1 + ((a + b + n - 1 / 2) / (a + b + n)) + torch.log(a + b + n) - (\n",
    "                (a + b - 1 / 2) / (a + b)) - torch.log(a + b) - ((x + a - 1 / 2) / (x + a)) - torch.log(x + a)\n",
    "\n",
    "    grad_b = torch.log(b) - (1 / 2) * b + 1 + ((a + b + n - 1 / 2) / (a + b + n)) + torch.log(a + b + n) - (\n",
    "                (a + b - 1 / 2) / (a + b)) - torch.log(a + b) - ((n - x + b - 1 / 2) / (n - x + b)) - torch.log(\n",
    "        n - x + b)\n",
    "\n",
    "    return grad_a, grad_b\n"
   ],
   "metadata": {
    "collapsed": false
   }
  },
  {
   "cell_type": "code",
   "execution_count": null,
   "outputs": [],
   "source": [
    "w_a = torch.tensor([1.0], requires_grad=True)\n",
    "w_b = torch.tensor([1.0], requires_grad=True)\n",
    "\n",
    "optimizer = torch.optim.SGD([w_a, w_b], lr=0.01)\n",
    "\n",
    "for i in range(100000):\n",
    "    # mini batch X\n",
    "\n",
    "    # rho = beta_dist.sample([n])\n",
    "    # bernoulli_dist = bernoulli.Bernoulli(rho)\n",
    "    # X = bernoulli_dist.sample()\n",
    "\n",
    "    # mini batch X:\n",
    "    for j in range(n // 100):\n",
    "        optimizer.zero_grad()\n",
    "        s = torch.sum(X[j*100:(j+1)*100])\n",
    "        loss = -log_marginal(w_a, w_b, s, 100) / 100\n",
    "        loss.backward()\n",
    "        optimizer.step()\n",
    "\n",
    "    print (f'sum: {torch.sum(X)}')\n",
    "    print (w_a.item(), w_b.item())\n"
   ],
   "metadata": {
    "collapsed": false
   }
  },
  {
   "cell_type": "code",
   "execution_count": null,
   "outputs": [],
   "source": [
    "# w_a = torch.tensor([10.0], requires_grad=True)\n",
    "w_b = torch.tensor([10.0], requires_grad=True)\n",
    "\n",
    "optimizer = torch.optim.SGD([w_a, w_b], lr=0.0001)\n",
    "\n",
    "for i in range(1000000):\n",
    "    # mini batch X\n",
    "    for j in range(n // 100):\n",
    "        optimizer.zero_grad()\n",
    "        a_grad, b_grad = get_grad(w_a, w_b, torch.sum(X[j*100:(j+1)*100]), 100)\n",
    "        w_a.grad = a_grad\n",
    "        w_b.grad = b_grad\n",
    "        optimizer.step()\n",
    "\n",
    "    print(w_a, w_b)\n",
    "\n"
   ],
   "metadata": {
    "collapsed": false
   }
  },
  {
   "cell_type": "code",
   "execution_count": null,
   "outputs": [],
   "source": [
    "# ln (a) - (1/2a) + 1 + ((a + b + N - 1/2) / (a + b + N)) + ln(a + b + N) - ((a + b - 1/2) / (a + b)) - ln(a + b) - ((x + a - 1/2) / (x + a)) - ln(x + a) = 0\n",
    "# (a^(a - 1/2)b^(b - 1/2)(a + b + N)^(a + b + N - 1/2)) / ((a + b)^(a + b - 1/2)(x + a)^(x + a - 1/2)(N - x + b)^(N - x + b - 1/2))\n"
   ],
   "metadata": {
    "collapsed": false
   }
  },
  {
   "cell_type": "code",
   "execution_count": null,
   "outputs": [],
   "source": [
    "# new likelihood found by iteratively reducing teh likelihood to remove B, using the identities B(a + 1, b) = B(a, b) * a / (a + b), B(a, b + 1) = B(a, b) * b / (a + b)\n",
    "\n",
    "import torch\n",
    "from torch.distributions import bernoulli, beta\n",
    "\n",
    "a = torch.tensor([1.0])\n",
    "b = torch.tensor([2.0])\n",
    "\n",
    "beta_dist = beta.Beta(a, b)\n",
    "n = 100000\n",
    "\n",
    "rho = beta_dist.sample([n])\n",
    "bernoulli_dist = bernoulli.Bernoulli(rho)\n",
    "X = bernoulli_dist.sample()\n",
    "\n",
    "\n",
    "def log_marginal(a, b, x, n):\n",
    "    j = torch.linspace(1, (n - x), (n - x))\n",
    "    i = torch.linspace(1, x, x)\n",
    "    A = torch.sum(torch.log((b + n - x) - j) - torch.log((a + b + n) - j))\n",
    "    B = torch.sum(torch.log((a + x) - i) - torch.log((a + b + n) - i))\n",
    "    return A + B\n"
   ],
   "metadata": {
    "collapsed": false
   }
  },
  {
   "cell_type": "code",
   "execution_count": null,
   "outputs": [],
   "source": [
    "w_a = torch.tensor([1.0], requires_grad=True)\n",
    "w_b = torch.tensor([1.0], requires_grad=True)\n",
    "\n",
    "optimizer = torch.optim.SGD([w_a, w_b], lr=0.01)\n",
    "\n",
    "for i in range(100000):\n",
    "    # mini batch X\n",
    "\n",
    "    # rho = beta_dist.sample([n])\n",
    "    # bernoulli_dist = bernoulli.Bernoulli(rho)\n",
    "    # X = bernoulli_dist.sample()\n",
    "\n",
    "    # mini batch X:\n",
    "    for j in range(n // 100):\n",
    "        optimizer.zero_grad()\n",
    "        s = torch.sum(X[j*100:(j+1)*100])\n",
    "        loss = -log_marginal(w_a, w_b, s, 100) / 100\n",
    "        loss.backward()\n",
    "        optimizer.step()\n",
    "\n",
    "    print (f'sum: {torch.sum(X)}')\n",
    "    print (w_a.item(), w_b.item())\n"
   ],
   "metadata": {
    "collapsed": false
   }
  },
  {
   "cell_type": "code",
   "execution_count": null,
   "outputs": [],
   "source": [
    "def likelihood(a, b , x, n):\n",
    "    return x * torch.log(a) + (n - x) * torch.log(b) - n * torch.log(a + b)"
   ],
   "metadata": {
    "collapsed": false
   }
  },
  {
   "cell_type": "code",
   "execution_count": null,
   "outputs": [],
   "source": [
    "print (likelihood(torch.tensor([10.]), torch.tensor([20.]), 50, 100))"
   ],
   "metadata": {
    "collapsed": false
   }
  },
  {
   "cell_type": "code",
   "execution_count": null,
   "outputs": [],
   "source": [
    "import torch\n",
    "import matplotlib.pyplot as plt\n",
    "# plot likelihood over values of a, b for x = 50, n = 100\n",
    "\n",
    "a_vals = torch.linspace(1, 10000, 100)\n",
    "b_vals = torch.linspace(1, 10000, 100)\n",
    "\n",
    "likelihood_vals = torch.zeros((100, 100))\n",
    "\n",
    "for i, a_val in enumerate(a_vals):\n",
    "    for j, b_val in enumerate(b_vals):\n",
    "        likelihood_vals[i, j] = likelihood(a_val, b_val, 50, 100)\n",
    "\n",
    "plt.imshow(likelihood_vals, extent=[1, 10000, 1, 10000], origin='lower', aspect='auto')\n",
    "plt.colorbar()\n",
    "# label\n",
    "plt.xlabel('a')\n",
    "plt.ylabel('b')\n",
    "plt.show()\n"
   ],
   "metadata": {
    "collapsed": false
   }
  },
  {
   "cell_type": "code",
   "execution_count": null,
   "outputs": [],
   "source": [
    "w_a = torch.tensor([1.5], requires_grad=True)\n",
    "w_b = torch.tensor([1.5], requires_grad=True)\n",
    "\n",
    "optimizer = torch.optim.SGD([w_a, w_b], lr=0.1)\n",
    "\n",
    "for i in range(100000):\n",
    "    # mini batch X\n",
    "\n",
    "    # rho = beta_dist.sample([n])\n",
    "    # bernoulli_dist = bernoulli.Bernoulli(rho)\n",
    "    # X = bernoulli_dist.sample()\n",
    "\n",
    "    # mini batch X:\n",
    "    for j in range(n // 100):\n",
    "        optimizer.zero_grad()\n",
    "        s = torch.sum(X[j*100:(j+1)*100])\n",
    "        loss = -likelihood(w_a, w_b, s, 100) / 100\n",
    "        loss.backward()\n",
    "        optimizer.step()\n",
    "\n",
    "    print (f'sum: {torch.sum(X)}')\n",
    "    print (w_a.item(), w_b.item())\n"
   ],
   "metadata": {
    "collapsed": false
   }
  },
  {
   "metadata": {},
   "cell_type": "code",
   "source": [
    "w_a = torch.tensor([1.0], requires_grad=True)\n",
    "w_b = torch.tensor([1.0], requires_grad=True)\n",
    "\n",
    "optimizer = torch.optim.SGD([w_a, w_b], lr=0.01)\n",
    "\n",
    "for i in range(100000):\n",
    "    # mini batch X\n",
    "\n",
    "    # rho = beta_dist.sample([n])\n",
    "    # bernoulli_dist = bernoulli.Bernoulli(rho)\n",
    "    # X = bernoulli_dist.sample()\n",
    "    \n",
    "    # mini batch X:\n",
    "    for j in range(n // 100):\n",
    "        optimizer.zero_grad()\n",
    "        s = torch.sum(X[j*100:(j+1)*100])\n",
    "        loss = -log_marginal(w_a, w_b, s, 100) / 100\n",
    "        loss.backward()\n",
    "        optimizer.step()\n",
    "        \n",
    "    print (f'sum: {torch.sum(X)}')\n",
    "    print (w_a.item(), w_b.item())\n",
    "    "
   ],
   "id": "751e208dde16b30a",
   "outputs": [],
   "execution_count": null
  },
  {
   "metadata": {},
   "cell_type": "code",
   "source": [
    "# w_a = torch.tensor([10.0], requires_grad=True)\n",
    "w_b = torch.tensor([10.0], requires_grad=True)\n",
    "\n",
    "optimizer = torch.optim.SGD([w_a, w_b], lr=0.0001)\n",
    "\n",
    "for i in range(1000000):\n",
    "    # mini batch X\n",
    "    for j in range(n // 100):\n",
    "        optimizer.zero_grad()\n",
    "        a_grad, b_grad = get_grad(w_a, w_b, torch.sum(X[j*100:(j+1)*100]), 100) \n",
    "        w_a.grad = a_grad\n",
    "        w_b.grad = b_grad\n",
    "        optimizer.step()\n",
    "        \n",
    "    print(w_a, w_b)\n",
    "\n"
   ],
   "id": "fd02586cb100d897",
   "outputs": [],
   "execution_count": null
  },
  {
   "metadata": {},
   "cell_type": "code",
   "source": [
    "# ln (a) - (1/2a) + 1 + ((a + b + N - 1/2) / (a + b + N)) + ln(a + b + N) - ((a + b - 1/2) / (a + b)) - ln(a + b) - ((x + a - 1/2) / (x + a)) - ln(x + a) = 0\n",
    "# (a^(a - 1/2)b^(b - 1/2)(a + b + N)^(a + b + N - 1/2)) / ((a + b)^(a + b - 1/2)(x + a)^(x + a - 1/2)(N - x + b)^(N - x + b - 1/2))\n",
    "    "
   ],
   "id": "cfbc82d9dcd4ad72",
   "outputs": [],
   "execution_count": null
  },
  {
   "metadata": {},
   "cell_type": "code",
   "source": [
    "# new likelihood found by iteratively reducing teh likelihood to remove B, using the identities B(a + 1, b) = B(a, b) * a / (a + b), B(a, b + 1) = B(a, b) * b / (a + b)\n",
    "\n",
    "import torch\n",
    "from torch.distributions import bernoulli, beta\n",
    "\n",
    "a = torch.tensor([1.0])\n",
    "b = torch.tensor([2.0])\n",
    "\n",
    "beta_dist = beta.Beta(a, b)\n",
    "n = 100000\n",
    "\n",
    "rho = beta_dist.sample([n])\n",
    "bernoulli_dist = bernoulli.Bernoulli(rho)\n",
    "X = bernoulli_dist.sample()\n",
    "\n",
    "\n",
    "def log_marginal(a, b, x, n):\n",
    "    j = torch.linspace(1, (n - x), (n - x))\n",
    "    i = torch.linspace(1, x, x)\n",
    "    A = torch.sum(torch.log((b + n - x) - j) - torch.log((a + b + n) - j))\n",
    "    B = torch.sum(torch.log((a + x) - i) - torch.log((a + b + n) - i))\n",
    "    return A + B\n",
    "    "
   ],
   "id": "2d94b4fa794d2d71",
   "outputs": [],
   "execution_count": null
  },
  {
   "metadata": {},
   "cell_type": "code",
   "source": [
    "w_a = torch.tensor([1.0], requires_grad=True)\n",
    "w_b = torch.tensor([1.0], requires_grad=True)\n",
    "\n",
    "optimizer = torch.optim.SGD([w_a, w_b], lr=0.01)\n",
    "\n",
    "for i in range(100000):\n",
    "    # mini batch X\n",
    "\n",
    "    # rho = beta_dist.sample([n])\n",
    "    # bernoulli_dist = bernoulli.Bernoulli(rho)\n",
    "    # X = bernoulli_dist.sample()\n",
    "    \n",
    "    # mini batch X:\n",
    "    for j in range(n // 100):\n",
    "        optimizer.zero_grad()\n",
    "        s = torch.sum(X[j*100:(j+1)*100])\n",
    "        loss = -log_marginal(w_a, w_b, s, 100) / 100\n",
    "        loss.backward()\n",
    "        optimizer.step()\n",
    "        \n",
    "    print (f'sum: {torch.sum(X)}')\n",
    "    print (w_a.item(), w_b.item())\n"
   ],
   "id": "8b794fcb8fc77a72",
   "outputs": [],
   "execution_count": null
  },
  {
   "cell_type": "code",
   "execution_count": null,
   "outputs": [],
   "source": [
    "def likelihood(a, b , x, n):\n",
    "    return x * torch.log(a) + (n - x) * torch.log(b) - n * torch.log(a + b)"
   ],
   "metadata": {
    "collapsed": false
   }
  },
  {
   "cell_type": "code",
   "execution_count": null,
   "outputs": [],
   "source": [
    "import torch\n",
    "import matplotlib.pyplot as plt\n",
    "# plot likelihood over values of a, b for x = 50, n = 100\n",
    "\n",
    "a_vals = torch.linspace(1, 10000, 100)\n",
    "b_vals = torch.linspace(1, 10000, 100)\n",
    "\n",
    "likelihood_vals = torch.zeros((100, 100))\n",
    "\n",
    "for i, a_val in enumerate(a_vals):\n",
    "    for j, b_val in enumerate(b_vals):\n",
    "        likelihood_vals[i, j] = likelihood(a_val, b_val, 50, 100)\n",
    "\n",
    "plt.imshow(likelihood_vals, extent=[1, 10000, 1, 10000], origin='lower', aspect='auto')\n",
    "plt.colorbar()\n",
    "# label\n",
    "plt.xlabel('a')\n",
    "plt.ylabel('b')\n",
    "plt.show()\n"
   ],
   "metadata": {
    "collapsed": false
   }
  },
  {
   "cell_type": "code",
   "execution_count": null,
   "outputs": [],
   "source": [
    "w_a = torch.tensor([1.5], requires_grad=True)\n",
    "w_b = torch.tensor([1.5], requires_grad=True)\n",
    "\n",
    "optimizer = torch.optim.SGD([w_a, w_b], lr=0.1)\n",
    "\n",
    "for i in range(100000):\n",
    "    # mini batch X\n",
    "\n",
    "    # rho = beta_dist.sample([n])\n",
    "    # bernoulli_dist = bernoulli.Bernoulli(rho)\n",
    "    # X = bernoulli_dist.sample()\n",
    "\n",
    "    # mini batch X:\n",
    "    for j in range(n // 100):\n",
    "        optimizer.zero_grad()\n",
    "        s = torch.sum(X[j*100:(j+1)*100])\n",
    "        loss = -likelihood(w_a, w_b, s, 100) / 100\n",
    "        loss.backward()\n",
    "        optimizer.step()\n",
    "\n",
    "    print (f'sum: {torch.sum(X)}')\n",
    "    print (w_a.item(), w_b.item())\n",
    "\n"
   ],
   "metadata": {
    "collapsed": false
   }
  }
 ],
 "metadata": {
  "kernelspec": {
   "display_name": "Python 3",
   "language": "python",
   "name": "python3"
  },
  "language_info": {
   "codemirror_mode": {
    "name": "ipython",
    "version": 2
   },
   "file_extension": ".py",
   "mimetype": "text/x-python",
   "name": "python",
   "nbconvert_exporter": "python",
   "pygments_lexer": "ipython2",
   "version": "2.7.6"
  }
 },
 "nbformat": 4,
 "nbformat_minor": 5
}
